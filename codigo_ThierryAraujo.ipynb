{
  "nbformat": 4,
  "nbformat_minor": 0,
  "metadata": {
    "colab": {
      "provenance": []
    },
    "kernelspec": {
      "name": "python3",
      "display_name": "Python 3"
    },
    "language_info": {
      "name": "python"
    }
  },
  "cells": [
    {
      "cell_type": "code",
      "execution_count": 48,
      "metadata": {
        "id": "ofKFpt8l9Go_"
      },
      "outputs": [],
      "source": [
        "class Node:\n",
        "  def __init__(self, name):\n",
        "    self.name:str  = name\n",
        "    self.prev:Node = None\n",
        "    self.next:Node = None\n",
        "\n",
        "  def __str__(self):\n",
        "    outp = f'Node: {self.name}\\n\\tPrev: {self.prev.name}\\n\\tNext: {self.next.name}'\n",
        "\n",
        "    return outp\n",
        "\n",
        "class Network:\n",
        "  def __init__(self):\n",
        "    self._nodes = {}\n",
        "    self._services = {\n",
        "                      # service_name: (node_name, [security_level, wire_cost, wifi_cost])\n",
        "                      'Autenticacao dos usuarios':('A', [2, 0, 4]),\n",
        "                      'Criptografia dos dados':('C', [2, 0, 1]),\n",
        "                      'Monitoramento da velocidade da rede':('E', [0, 0, 5]),\n",
        "                      'Compartilhamento de arquivos':('G', [2, 0, 1])\n",
        "                     }\n",
        "\n",
        "  def add_node(self, node_name: str) -> None:\n",
        "    node = Node(node_name)\n",
        "\n",
        "    self._nodes[node_name] = node\n",
        "\n",
        "  def add_connection(self, node_name: str, prev: Node, next: Node) -> None:\n",
        "    self._nodes[node_name].prev = self._nodes[prev]\n",
        "    self._nodes[node_name].next = self._nodes[next]\n",
        "\n",
        "  def print_network(self) -> None:\n",
        "    for i in self._nodes.keys():\n",
        "      print(f'Node: {i}\\n\\tPrev: {self._nodes[i].prev.name}\\n\\tNext: {self._nodes[i].next.name}')\n",
        "\n",
        "  def bfs(self, start_node: str, target_node: str) -> list|None:\n",
        "    if not start_node:\n",
        "      return None\n",
        "\n",
        "    visited = set()\n",
        "    queue = []\n",
        "    queue.append((self._nodes[start_node], []))  # [(node, path), ...]\n",
        "\n",
        "    while queue:\n",
        "      current, path = queue.pop(0)\n",
        "\n",
        "      if current.name == target_node:\n",
        "        return path + [current.name]\n",
        "\n",
        "      if current.name not in visited:\n",
        "        visited.add(current)\n",
        "\n",
        "        if current.next:\n",
        "          queue.append((current.next, path + [current.name]))\n",
        "        if current.prev:\n",
        "          queue.append((current.prev, path + [current.name]))\n",
        "\n",
        "    return None\n",
        "\n",
        "  # Selects the best traffic path through the network, ensuring efficiency and security\n",
        "  def best_path(self, service: str, target_info: list, source: str) -> str:\n",
        "    path = ''\n",
        "\n",
        "    path_bfs = self.bfs(source, target_info[0])\n",
        "    target_info[1][1] = len(path_bfs) - 1 # Calculate cost to send by wire\n",
        "\n",
        "    # Request\n",
        "    # Wifi is cheaper (and don't need high security)\n",
        "    if target_info[1][2] < target_info[1][1] and target_info[1][0] < 2:\n",
        "      path = f'{source} -> Wifi -> {target_info[0]}'\n",
        "    else:\n",
        "      path = ' -> '.join(path_bfs)\n",
        "\n",
        "    # Response\n",
        "    # 'Criptografia de dados' always need send by wire to maintain security\n",
        "    if target_info[1][2] < target_info[1][1] and service != 'Criptografia dos dados':\n",
        "      path += f'\\n{target_info[0]} -> Wifi -> {source}'\n",
        "    else:\n",
        "      if path_bfs:\n",
        "         path_bfs.reverse()\n",
        "         sec_path = path_bfs\n",
        "      else:\n",
        "        sec_path = self.bfs(target_info[0], source)\n",
        "\n",
        "      path += '\\n' + ' -> '.join(sec_path)\n",
        "\n",
        "    return path\n",
        "\n",
        "  # Seeks the optimal path from a source node and one (or two) service(s)\n",
        "  def find_path(self, source: str, service1: str, service2: str=None) -> str:\n",
        "    target1 = self._services.get(service1)\n",
        "    path = ''\n",
        "\n",
        "    # Service/Node not found\n",
        "    if not target1:\n",
        "      return 'Service not found'\n",
        "    if source not in self._nodes.keys():\n",
        "      return 'Node not found'\n",
        "\n",
        "    # 1 service\n",
        "    if service2 == None:\n",
        "      # Secure connection\n",
        "      if target1[1][0] == 2:\n",
        "        target_auth = self._services.get('Autenticacao dos usuarios')\n",
        "        path = self.best_path('Autenticacao dos usuarios', target_auth, source)\n",
        "\n",
        "        if service1 != 'Autenticacao dos usuarios':\n",
        "          path += '\\n' + self.best_path(service1, target1, source)\n",
        "      # Unsecure connection\n",
        "      else:\n",
        "        path = self.best_path(service1, target1, source)\n",
        "    # 2 services\n",
        "    else:\n",
        "      target2 = self._services.get(service2)\n",
        "\n",
        "      if target1[1][0] == 2 or target2[1][0] == 2:\n",
        "        target_auth = self._services.get('Autenticacao dos usuarios')\n",
        "        auth = self.best_path('Autenticacao dos usuarios', target_auth, source)\n",
        "\n",
        "      if target1[1][0] == 2:\n",
        "        path += auth + '\\n'\n",
        "        if service1 != 'Autenticacao dos usuarios':\n",
        "           path += self.best_path(service1, target1, source) + '\\n'\n",
        "      else:\n",
        "        path += self.best_path(service1, target1, source) + '\\n'\n",
        "\n",
        "      if target2[1][0] == 2:\n",
        "        if target1[1][0] < 2:\n",
        "          path += auth + '\\n'\n",
        "        if service2 != 'Autenticacao dos usuarios':\n",
        "           path += self.best_path(service2, target2, source)\n",
        "      else:\n",
        "        path += self.best_path(service2, target2, source)\n",
        "\n",
        "    return path"
      ]
    },
    {
      "cell_type": "code",
      "source": [
        "# Network creation\n",
        "ring = Network()\n",
        "\n",
        "ring.add_node('A')\n",
        "ring.add_node('B')\n",
        "ring.add_node('C')\n",
        "ring.add_node('D')\n",
        "ring.add_node('E')\n",
        "ring.add_node('F')\n",
        "ring.add_node('G')\n",
        "ring.add_node('H')\n",
        "\n",
        "ring.add_connection('A', 'H', 'B')\n",
        "ring.add_connection('B', 'A', 'C')\n",
        "ring.add_connection('C', 'B', 'D')\n",
        "ring.add_connection('D', 'C', 'E')\n",
        "ring.add_connection('E', 'D', 'F')\n",
        "ring.add_connection('F', 'E', 'G')\n",
        "ring.add_connection('G', 'F', 'H')\n",
        "ring.add_connection('H', 'G', 'A')"
      ],
      "metadata": {
        "id": "IASU4Cd25bTN"
      },
      "execution_count": 49,
      "outputs": []
    },
    {
      "cell_type": "code",
      "source": [
        "source = input().split(':')[1].strip()\n",
        "service = input().split(':')[1].strip()\n",
        "\n",
        "path = ring.find_path(source, service)\n",
        "if path:\n",
        "  print(path)\n",
        "else:\n",
        "  print('Service not found')"
      ],
      "metadata": {
        "id": "0gRiVh3iAJJN",
        "colab": {
          "base_uri": "https://localhost:8080/"
        },
        "outputId": "46e3e982-7691-4acb-95bb-74ff74845d53"
      },
      "execution_count": 53,
      "outputs": [
        {
          "output_type": "stream",
          "name": "stdout",
          "text": [
            "Nó: G\n",
            "Serviço: Criptografia dos dados\n",
            "G -> H -> A\n",
            "A -> H -> G\n",
            "G -> H -> A -> B -> C\n",
            "C -> B -> A -> H -> G\n"
          ]
        }
      ]
    },
    {
      "cell_type": "code",
      "source": [
        "source = input().split(':')[1].strip()\n",
        "service1 = input().split(':')[1].strip()\n",
        "service2 = input().split(':')[1].strip()\n",
        "\n",
        "path = ring.find_path(source, service1, service2)\n",
        "if path:\n",
        "  print(path)\n",
        "else:\n",
        "  print('Service not found')"
      ],
      "metadata": {
        "id": "q2CrnUwIg1kc",
        "colab": {
          "base_uri": "https://localhost:8080/"
        },
        "outputId": "ff5d9124-9d43-40fb-b1f2-b45b2c5e5063"
      },
      "execution_count": 52,
      "outputs": [
        {
          "output_type": "stream",
          "name": "stdout",
          "text": [
            "Nó: F\n",
            "Serviço 1: Monitoramento da velocidade da rede\n",
            "Serviço 2: Compartilhamento de arquivos\n",
            "F -> E\n",
            "E -> F\n",
            "F -> G -> H -> A\n",
            "A -> H -> G -> F\n",
            "F -> G\n",
            "G -> F\n"
          ]
        }
      ]
    }
  ]
}